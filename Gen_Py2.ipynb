{
 "cells": [
  {
   "cell_type": "code",
   "execution_count": 1,
   "id": "561dfe96",
   "metadata": {},
   "outputs": [],
   "source": [
    "import numpy as np\n",
    "from matplotlib import pyplot as plt"
   ]
  },
  {
   "cell_type": "code",
   "execution_count": 2,
   "id": "4629af5f",
   "metadata": {},
   "outputs": [],
   "source": [
    "x_max = 200\n",
    "y_max = 100\n",
    "s = [2.5, 10, 10, 10]\n",
    "N = [50, 30, 20, 10]\n",
    "\n",
    "A = [0,0]\n",
    "B = [0,y_max]\n",
    "C = [x_max, 0]"
   ]
  },
  {
   "cell_type": "code",
   "execution_count": 3,
   "id": "507b5762",
   "metadata": {},
   "outputs": [],
   "source": [
    "theta_b = np.arctan(x_max/y_max)\n",
    "alpha = (np.pi/2-theta_b)/2  # 1/2 theta_c"
   ]
  },
  {
   "cell_type": "code",
   "execution_count": 4,
   "id": "ce9c4e5a",
   "metadata": {},
   "outputs": [],
   "source": [
    "def get_new_triangle(A, B, C, s):\n",
    "    delta_b = s/np.tan(theta_b)+s/np.sin(theta_b)\n",
    "    delta_c = s/np.tan(alpha)\n",
    "    A1 = [(A[0]+s), (A[1]+s)]\n",
    "    B1 = [(B[0]+s), (B[1]-delta_b)]\n",
    "    C1 = [(C[0]-delta_c), (C[1]+s)]\n",
    "    \n",
    "    return A1, B1, C1"
   ]
  },
  {
   "cell_type": "code",
   "execution_count": 5,
   "id": "babeb7a6",
   "metadata": {},
   "outputs": [],
   "source": [
    "def get_side_line(B, C):\n",
    "    # Calculate the coefficients\n",
    "    x = [B[0], C[0]]\n",
    "    y = [B[1], C[1]]\n",
    "    coefficients = np.polyfit(x, y, 1)\n",
    "    \n",
    "    a = coefficients[0] # Zero Order, Constant Term\n",
    "    b = coefficients[1] # First Order, Gradient\n",
    "    co = [a, b]\n",
    "    return co"
   ]
  },
  {
   "cell_type": "code",
   "execution_count": 6,
   "id": "c75326f3",
   "metadata": {},
   "outputs": [],
   "source": [
    "def get_points(A, B, C, N):\n",
    "    \n",
    "    store=[]\n",
    "    ab = B[1] - A[1]\n",
    "    ac = C[0] - A[0]\n",
    "    bc = ac / np.sin(theta_b)\n",
    "    l_total = ab + ac + bc\n",
    "    \n",
    "    Nb = int(N * ac / l_total)\n",
    "    Nc = int(N * ab / l_total)\n",
    "    Na = N - Nb - Nc\n",
    "    \n",
    "    # On line AB, # of points = Nc\n",
    "    delta_ab = (B[1] - A[1]) / (Nc + 1)\n",
    "    d1 = 0\n",
    "    for i in range(Nc):\n",
    "        d1 = d1 + delta_ab\n",
    "        store.append([A[0], (A[1] + d1)])\n",
    "\n",
    "    # On line AC, # of points = Nb\n",
    "    delta_ac = (C[0] - A[0]) / (Nb + 1)\n",
    "    d2 = 0\n",
    "    for i in range(Nb):\n",
    "        d2 = d2 + delta_ac\n",
    "        store.append([(A[0] + d2), A[1]])\n",
    "\n",
    "    # On line BC, # of points = Na\n",
    "    co = get_side_line(B, C)\n",
    "    delta_x = (C[0] - B[0]) / (Na + 1)   # Increment along x direction\n",
    "    d3 = B[0]\n",
    "    for i in range(Na):\n",
    "        d3 = d3 + delta_x\n",
    "        store.append([d3, (co[0]*d3 + co[1])])\n",
    "    \n",
    "    # Coordinates\n",
    "    store.extend([A, B, C])\n",
    "    \n",
    "    return store"
   ]
  },
  {
   "cell_type": "code",
   "execution_count": 7,
   "id": "939f3d38",
   "metadata": {},
   "outputs": [],
   "source": [
    "pts=[]\n",
    "for i in range(len(s)):\n",
    "    A1, B1, C1 = get_new_triangle(A, B, C, s[i])   # return new_coor\n",
    "    pts.extend(get_points(A1, B1, C1, N[i]))\n",
    "    A, B, C = A1, B1, C1"
   ]
  },
  {
   "cell_type": "code",
   "execution_count": 8,
   "id": "06fbe800",
   "metadata": {},
   "outputs": [
    {
     "data": {
      "text/plain": [
       "<function matplotlib.pyplot.show(close=None, block=None)>"
      ]
     },
     "execution_count": 8,
     "metadata": {},
     "output_type": "execute_result"
    },
    {
     "data": {
      "image/png": "[encoded data removed]",
      "text/plain": [
       "<Figure size 720x360 with 1 Axes>"
      ]
     },
     "metadata": {
      "needs_background": "light"
     },
     "output_type": "display_data"
    }
   ],
   "source": [
    "# Visualize\n",
    "pts = np.array(pts)\n",
    "x1 = pts[:,0]\n",
    "y1 = pts[:,1]\n",
    "#plt.figure(figsize = (150, 60))\n",
    "plt.figure(figsize=(10,5))\n",
    "plt.plot((0, 0), (0, y_max), scaley = False,c='blue',alpha = 0.75)\n",
    "plt.plot((x_max, 0),(0, 0),scaley = False,c='blue',alpha = 0.75)\n",
    "plt.plot((0, x_max), (y_max, 0), scaley = False,c='blue',alpha = 0.75)\n",
    "\n",
    "# plt.plot((step,(x_max-delta_x)),((y_max-delta_y),step),'m--',label = '2.5 um separation',alpha = 0.75)\n",
    "# plt.plot((step,step),(step,(y_max-delta_y)),'m--',alpha = 0.75)\n",
    "# plt.plot((step,(x_max-delta_x)),(step,step),'m--',alpha = 0.75)\n",
    "\n",
    "plt.scatter(x1,y1,s=20,c='green',edgecolor = 'black',alpha = 0.75)\n",
    "plt.show"
   ]
  },
  {
   "cell_type": "code",
   "execution_count": null,
   "id": "72dd8577",
   "metadata": {},
   "outputs": [],
   "source": []
  }
 ],
 "metadata": {
  "kernelspec": {
   "display_name": "Python 3 (ipykernel)",
   "language": "python",
   "name": "python3"
  },
  "language_info": {
   "codemirror_mode": {
    "name": "ipython",
    "version": 3
   },
   "file_extension": ".py",
   "mimetype": "text/x-python",
   "name": "python",
   "nbconvert_exporter": "python",
   "pygments_lexer": "ipython3",
   "version": "3.9.12"
  }
 },
 "nbformat": 4,
 "nbformat_minor": 5
}
