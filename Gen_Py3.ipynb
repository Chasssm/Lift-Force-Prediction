{
 "cells": [
  {
   "cell_type": "code",
   "execution_count": 1,
   "id": "561dfe96",
   "metadata": {},
   "outputs": [],
   "source": [
    "import numpy as np\n",
    "from matplotlib import pyplot as plt"
   ]
  },
  {
   "cell_type": "code",
   "execution_count": 2,
   "id": "4629af5f",
   "metadata": {},
   "outputs": [],
   "source": [
    "x_max = 200\n",
    "y_max = 100\n",
    "\n",
    "A = [0,0]\n",
    "B = [0,y_max]\n",
    "C = [x_max, 0]\n",
    "Cp = [70, 30]  # Center Point"
   ]
  },
  {
   "cell_type": "code",
   "execution_count": 3,
   "id": "507b5762",
   "metadata": {},
   "outputs": [],
   "source": [
    "ab = B[1] - A[1]\n",
    "ac = C[0] - A[0]\n",
    "\n",
    "theta_b = np.arctan(Cp[0]/(ab-Cp[1]))\n",
    "theta_a = np.arctan(Cp[1]/Cp[0])\n",
    "theta_c = np.arctan(Cp[1]/(ac-Cp[0]))\n",
    "\n",
    "bc = ac / np.sin(theta_b)\n",
    "l_total = ab + ac + bc\n",
    "l_BCp = (ab-Cp[1])/np.cos(theta_b)"
   ]
  },
  {
   "cell_type": "code",
   "execution_count": 4,
   "id": "5436f0ab",
   "metadata": {},
   "outputs": [
    {
     "data": {
      "text/plain": [
       "98.99494936611664"
      ]
     },
     "execution_count": 4,
     "metadata": {},
     "output_type": "execute_result"
    }
   ],
   "source": [
    "l_BCp"
   ]
  },
  {
   "cell_type": "code",
   "execution_count": 5,
   "id": "9e8ff009",
   "metadata": {},
   "outputs": [],
   "source": [
    "s_set = [5, 10, 20, 35]\n",
    "N = [50, 30, 20, 20, 10]\n",
    "\n",
    "s_b = [i * np.sin(theta_b) for i in s_set]\n",
    "s_a = [i * np.tan(theta_a) for i in s_b]\n",
    "s_c = [i / np.tan(theta_c) for i in s_a]"
   ]
  },
  {
   "cell_type": "code",
   "execution_count": 6,
   "id": "ce9c4e5a",
   "metadata": {},
   "outputs": [],
   "source": [
    "def get_new_triangle(A, B, C, s_a, s_b, s_c, s_set):\n",
    "    \n",
    "    delta_b = s_set * np.cos(theta_b)\n",
    "    delta_c = s_a\n",
    "    delta_a = s_b\n",
    "    \n",
    "    A1 = [(A[0]+delta_a), (A[1]+s_a)]\n",
    "    B1 = [(B[0]+s_b), (B[1]-delta_b)]\n",
    "    C1 = [(C[0]-s_c), (C[1]+delta_c)]\n",
    "    \n",
    "    return A1, B1, C1"
   ]
  },
  {
   "cell_type": "code",
   "execution_count": 7,
   "id": "babeb7a6",
   "metadata": {},
   "outputs": [],
   "source": [
    "def get_side_line(B, C):\n",
    "    # Calculate the coefficients\n",
    "    x = [B[0], C[0]]\n",
    "    y = [B[1], C[1]]\n",
    "    coefficients = np.polyfit(x, y, 1)\n",
    "    \n",
    "    a = coefficients[0] # Zero Order, Constant Term\n",
    "    b = coefficients[1] # First Order, Gradient\n",
    "    co = [a, b]\n",
    "    return co"
   ]
  },
  {
   "cell_type": "code",
   "execution_count": 8,
   "id": "c75326f3",
   "metadata": {},
   "outputs": [],
   "source": [
    "def get_points(A, B, C, N):\n",
    "    store = []\n",
    "    \n",
    "    Nb = int(N * ac / l_total)\n",
    "    Nc = int(N * ab / l_total)\n",
    "    Na = N - Nb - Nc\n",
    "    \n",
    "    # On line AB, # of points = Nc\n",
    "    delta_ab = (B[1] - A[1]) / (Nc + 1)\n",
    "    d1 = 0\n",
    "    for i in range(Nc):\n",
    "        d1 = d1 + delta_ab\n",
    "        store.append([A[0], (A[1] + d1)])\n",
    "\n",
    "    # On line AC, # of points = Nb\n",
    "    delta_ac = (C[0] - A[0]) / (Nb + 1)\n",
    "    d2 = 0\n",
    "    for i in range(Nb):\n",
    "        d2 = d2 + delta_ac\n",
    "        store.append([(A[0] + d2), A[1]])\n",
    "\n",
    "    # On line BC, # of points = Na\n",
    "    co = get_side_line(B, C)\n",
    "    delta_x = (C[0] - B[0]) / (Na + 1)   # Increment along x direction\n",
    "    d3 = B[0]\n",
    "    for i in range(Na):\n",
    "        d3 = d3 + delta_x\n",
    "        store.append([d3, (co[0]*d3 + co[1])])\n",
    "    \n",
    "    # Coordinates\n",
    "    store.extend([A, B, C])\n",
    "    \n",
    "    return store"
   ]
  },
  {
   "cell_type": "code",
   "execution_count": 9,
   "id": "939f3d38",
   "metadata": {},
   "outputs": [],
   "source": [
    "pts=[]\n",
    "for i in range(len(s_set)):\n",
    "    A1, B1, C1 = get_new_triangle(A, B, C, s_a[i], s_b[i], s_c[i], s_set[i])   # return new_coor\n",
    "    pts.extend(get_points(A1, B1, C1, N[i]))\n",
    "    A, B, C = A1, B1, C1"
   ]
  },
  {
   "cell_type": "code",
   "execution_count": 10,
   "id": "06fbe800",
   "metadata": {},
   "outputs": [
    {
     "data": {
      "text/plain": [
       "<function matplotlib.pyplot.show(close=None, block=None)>"
      ]
     },
     "execution_count": 10,
     "metadata": {},
     "output_type": "execute_result"
    },
    {
     "data": {
      "image/png": "[encoded data removed]",
      "text/plain": [
       "<Figure size 720x360 with 1 Axes>"
      ]
     },
     "metadata": {
      "needs_background": "light"
     },
     "output_type": "display_data"
    }
   ],
   "source": [
    "# Visualize\n",
    "pts = np.array(pts)\n",
    "x1 = pts[:,0]\n",
    "y1 = pts[:,1]\n",
    "\n",
    "plt.figure(figsize=(10,5))\n",
    "plt.grid(color='grey', linestyle='--', linewidth=0.5)\n",
    "\n",
    "plt.plot((0, 0), (0, y_max), scaley = False,c='royalblue',alpha = 0.75)\n",
    "plt.plot((x_max, 0),(0, 0),scaley = False,c='royalblue',alpha = 0.75)\n",
    "plt.plot((0, x_max), (y_max, 0), scaley = False,c='royalblue',alpha = 0.75)\n",
    "\n",
    "plt.scatter(x1,y1,s=20,c='dodgerblue',edgecolor = 'black',alpha = 0.75)\n",
    "plt.scatter(Cp[0], Cp[1])\n",
    "         \n",
    "# Plot Vertices - Cp\n",
    "plt.plot([0, Cp[0]], [0, Cp[1]], 'dodgerblue', linestyle=\"--\", alpha = 0.75)\n",
    "plt.plot([0, Cp[0]], [y_max, Cp[1]], 'dodgerblue', linestyle=\"--\", alpha = 0.75)\n",
    "plt.plot([x_max, Cp[0]], [0, Cp[1]], 'dodgerblue', linestyle=\"--\", alpha = 0.75)\n",
    "\n",
    "# Add Text\n",
    "plt.rcParams.update({'font.size': 10})\n",
    "plt.text(0-8, 0, \"A\", fontsize=20, color='darkblue')\n",
    "plt.text(0-8, y_max-3, \"B\", fontsize=20, color='darkblue')\n",
    "plt.text(x_max+2, 0, \"C\", fontsize=20, color='darkblue')\n",
    "plt.text(Cp[0]-4, Cp[1]+5, \"Cp\", fontsize=15, color='darkblue')\n",
    "\n",
    "plt.show()"
   ]
  },
  {
   "cell_type": "code",
   "execution_count": null,
   "id": "9740a4db",
   "metadata": {},
   "outputs": [],
   "source": []
  }
 ],
 "metadata": {
  "kernelspec": {
   "display_name": "Python 3.7.6 ('base')",
   "language": "python",
   "name": "python3"
  },
  "language_info": {
   "codemirror_mode": {
    "name": "ipython",
    "version": 3
   },
   "file_extension": ".py",
   "mimetype": "text/x-python",
   "name": "python",
   "nbconvert_exporter": "python",
   "pygments_lexer": "ipython3",
   "version": "3.7.6"
  },
  "vscode": {
   "interpreter": {
    "hash": "ecd7ceefc31b8b8e9a49e8040db5b080769e852ca1510e804a1e13b0af9ee10e"
   }
  }
 },
 "nbformat": 4,
 "nbformat_minor": 5
}
