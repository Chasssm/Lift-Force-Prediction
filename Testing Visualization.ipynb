{
 "cells": [
  {
   "cell_type": "code",
   "execution_count": 443,
   "id": "cce85098",
   "metadata": {},
   "outputs": [],
   "source": [
    "import numpy as np\n",
    "from matplotlib import pyplot as plt"
   ]
  },
  {
   "cell_type": "code",
   "execution_count": 444,
   "id": "133cea52",
   "metadata": {},
   "outputs": [],
   "source": [
    "def area(x1,y1,x2,y2,x3,y3):\n",
    "    return abs((x1 * (y2-y3) + x2 * (y3-y1) + x3 * (y1-y2)) / 2.0)"
   ]
  },
  {
   "cell_type": "code",
   "execution_count": 445,
   "id": "68d037d6",
   "metadata": {},
   "outputs": [],
   "source": [
    "def isInside(x1,y1,x2,y2,x3,y3,x,y):\n",
    "    err = 1e-6\n",
    "    A = area (x1, y1, x2, y2, x3, y3) # Total Area\n",
    "    A1 = area (x, y, x2, y2, x3, y3)\n",
    "    A2 = area (x1, y1, x, y, x3, y3)\n",
    "    A3 = area (x1, y1, x2, y2, x, y)\n",
    "    tmp = A1 + A2 + A3\n",
    "    # tmp2 = tmp==A\n",
    "    if ((A-err)<=tmp<=(A+err)):\n",
    "        return True\n",
    "    else:\n",
    "        return False"
   ]
  },
  {
   "cell_type": "code",
   "execution_count": 446,
   "id": "b536d4b2",
   "metadata": {},
   "outputs": [],
   "source": [
    "def get_acute_angles(x1, y1, x2, y2, x3, y3):\n",
    "    H = ((x3-x1)**2 + (y2-y1)**2)**(1/2)\n",
    "    theta_123 = np.arcsin((x3-x1)/H)\n",
    "    theta_132 = np.arcsin((y2-y1)/H)\n",
    "    \n",
    "    return theta_123, theta_132"
   ]
  },
  {
   "cell_type": "code",
   "execution_count": 447,
   "id": "3c474835",
   "metadata": {},
   "outputs": [],
   "source": [
    "# Function that measures the new coordinates\n",
    "# By deducting delta_x and delta_y from the original ones\n",
    "\n",
    "def get_deltas(step, x1, y1, x2, y2, x3, y3):\n",
    "    theta_123, theta_132 = get_acute_angles(x1, y1, x2, y2, x3, y3)\n",
    "    \n",
    "    delta_x = step / np.tan(theta_132/2)\n",
    "    delta_y = step / np.tan(theta_123/2)\n",
    "    \n",
    "    return delta_x, delta_y"
   ]
  },
  {
   "cell_type": "code",
   "execution_count": 448,
   "id": "99633d54",
   "metadata": {},
   "outputs": [],
   "source": [
    "x_max = 100  # Point (x_max, 0.0)\n",
    "y_max = 100  # Point (0.0, y_max)a\n",
    "step = 2.5\n",
    "store = []\n",
    "\n",
    "delta_x, delta_y = get_deltas(step, 0, 0, 0, y_max, x_max, 0)\n",
    "\n",
    "for a in np.arange(0+step, x_max+step-delta_x, step):\n",
    "    for b in np.arange(0+step, y_max+step-delta_y, step):\n",
    "        if isInside(step, step, step,y_max-delta_y, x_max-delta_x,step, a,b):\n",
    "            store.append([a,b])\n",
    "\n",
    "\n",
    "store.append([step, y_max-delta_y])\n",
    "store.append([x_max-delta_x, step])"
   ]
  },
  {
   "cell_type": "code",
   "execution_count": 449,
   "id": "f32634dc",
   "metadata": {},
   "outputs": [
    {
     "name": "stdout",
     "output_type": "stream",
     "text": [
      "[[2.5, 2.5], [2.5, 5.0], [2.5, 7.5], [2.5, 10.0], [2.5, 12.5], [2.5, 15.0], [2.5, 17.5], [2.5, 20.0], [2.5, 22.5], [2.5, 25.0], [2.5, 27.5], [2.5, 30.0], [2.5, 32.5], [2.5, 35.0], [2.5, 37.5], [2.5, 40.0], [2.5, 42.5], [2.5, 45.0], [2.5, 47.5], [2.5, 50.0], [2.5, 52.5], [2.5, 55.0], [2.5, 57.5], [2.5, 60.0], [2.5, 62.5], [2.5, 65.0], [2.5, 67.5], [2.5, 70.0], [2.5, 72.5], [2.5, 75.0], [2.5, 77.5], [2.5, 80.0], [2.5, 82.5], [2.5, 85.0], [2.5, 87.5], [2.5, 90.0], [2.5, 92.5], [5.0, 2.5], [5.0, 5.0], [5.0, 7.5], [5.0, 10.0], [5.0, 12.5], [5.0, 15.0], [5.0, 17.5], [5.0, 20.0], [5.0, 22.5], [5.0, 25.0], [5.0, 27.5], [5.0, 30.0], [5.0, 32.5], [5.0, 35.0], [5.0, 37.5], [5.0, 40.0], [5.0, 42.5], [5.0, 45.0], [5.0, 47.5], [5.0, 50.0], [5.0, 52.5], [5.0, 55.0], [5.0, 57.5], [5.0, 60.0], [5.0, 62.5], [5.0, 65.0], [5.0, 67.5], [5.0, 70.0], [5.0, 72.5], [5.0, 75.0], [5.0, 77.5], [5.0, 80.0], [5.0, 82.5], [5.0, 85.0], [5.0, 87.5], [5.0, 90.0], [7.5, 2.5], [7.5, 5.0], [7.5, 7.5], [7.5, 10.0], [7.5, 12.5], [7.5, 15.0], [7.5, 17.5], [7.5, 20.0], [7.5, 22.5], [7.5, 25.0], [7.5, 27.5], [7.5, 30.0], [7.5, 32.5], [7.5, 35.0], [7.5, 37.5], [7.5, 40.0], [7.5, 42.5], [7.5, 45.0], [7.5, 47.5], [7.5, 50.0], [7.5, 52.5], [7.5, 55.0], [7.5, 57.5], [7.5, 60.0], [7.5, 62.5], [7.5, 65.0], [7.5, 67.5], [7.5, 70.0], [7.5, 72.5], [7.5, 75.0], [7.5, 77.5], [7.5, 80.0], [7.5, 82.5], [7.5, 85.0], [7.5, 87.5], [10.0, 2.5], [10.0, 5.0], [10.0, 7.5], [10.0, 10.0], [10.0, 12.5], [10.0, 15.0], [10.0, 17.5], [10.0, 20.0], [10.0, 22.5], [10.0, 25.0], [10.0, 27.5], [10.0, 30.0], [10.0, 32.5], [10.0, 35.0], [10.0, 37.5], [10.0, 40.0], [10.0, 42.5], [10.0, 45.0], [10.0, 47.5], [10.0, 50.0], [10.0, 52.5], [10.0, 55.0], [10.0, 57.5], [10.0, 60.0], [10.0, 62.5], [10.0, 65.0], [10.0, 67.5], [10.0, 70.0], [10.0, 72.5], [10.0, 75.0], [10.0, 77.5], [10.0, 80.0], [10.0, 82.5], [10.0, 85.0], [12.5, 2.5], [12.5, 5.0], [12.5, 7.5], [12.5, 10.0], [12.5, 12.5], [12.5, 15.0], [12.5, 17.5], [12.5, 20.0], [12.5, 22.5], [12.5, 25.0], [12.5, 27.5], [12.5, 30.0], [12.5, 32.5], [12.5, 35.0], [12.5, 37.5], [12.5, 40.0], [12.5, 42.5], [12.5, 45.0], [12.5, 47.5], [12.5, 50.0], [12.5, 52.5], [12.5, 55.0], [12.5, 57.5], [12.5, 60.0], [12.5, 62.5], [12.5, 65.0], [12.5, 67.5], [12.5, 70.0], [12.5, 72.5], [12.5, 75.0], [12.5, 77.5], [12.5, 80.0], [12.5, 82.5], [15.0, 2.5], [15.0, 5.0], [15.0, 7.5], [15.0, 10.0], [15.0, 12.5], [15.0, 15.0], [15.0, 17.5], [15.0, 20.0], [15.0, 22.5], [15.0, 25.0], [15.0, 27.5], [15.0, 30.0], [15.0, 32.5], [15.0, 35.0], [15.0, 37.5], [15.0, 40.0], [15.0, 42.5], [15.0, 45.0], [15.0, 47.5], [15.0, 50.0], [15.0, 52.5], [15.0, 55.0], [15.0, 57.5], [15.0, 60.0], [15.0, 62.5], [15.0, 65.0], [15.0, 67.5], [15.0, 70.0], [15.0, 72.5], [15.0, 75.0], [15.0, 77.5], [15.0, 80.0], [17.5, 2.5], [17.5, 5.0], [17.5, 7.5], [17.5, 10.0], [17.5, 12.5], [17.5, 15.0], [17.5, 17.5], [17.5, 20.0], [17.5, 22.5], [17.5, 25.0], [17.5, 27.5], [17.5, 30.0], [17.5, 32.5], [17.5, 35.0], [17.5, 37.5], [17.5, 40.0], [17.5, 42.5], [17.5, 45.0], [17.5, 47.5], [17.5, 50.0], [17.5, 52.5], [17.5, 55.0], [17.5, 57.5], [17.5, 60.0], [17.5, 62.5], [17.5, 65.0], [17.5, 67.5], [17.5, 70.0], [17.5, 72.5], [17.5, 75.0], [17.5, 77.5], [20.0, 2.5], [20.0, 5.0], [20.0, 7.5], [20.0, 10.0], [20.0, 12.5], [20.0, 15.0], [20.0, 17.5], [20.0, 20.0], [20.0, 22.5], [20.0, 25.0], [20.0, 27.5], [20.0, 30.0], [20.0, 32.5], [20.0, 35.0], [20.0, 37.5], [20.0, 40.0], [20.0, 42.5], [20.0, 45.0], [20.0, 47.5], [20.0, 50.0], [20.0, 52.5], [20.0, 55.0], [20.0, 57.5], [20.0, 60.0], [20.0, 62.5], [20.0, 65.0], [20.0, 67.5], [20.0, 70.0], [20.0, 72.5], [20.0, 75.0], [22.5, 2.5], [22.5, 5.0], [22.5, 7.5], [22.5, 10.0], [22.5, 12.5], [22.5, 15.0], [22.5, 17.5], [22.5, 20.0], [22.5, 22.5], [22.5, 25.0], [22.5, 27.5], [22.5, 30.0], [22.5, 32.5], [22.5, 35.0], [22.5, 37.5], [22.5, 40.0], [22.5, 42.5], [22.5, 45.0], [22.5, 47.5], [22.5, 50.0], [22.5, 52.5], [22.5, 55.0], [22.5, 57.5], [22.5, 60.0], [22.5, 62.5], [22.5, 65.0], [22.5, 67.5], [22.5, 70.0], [22.5, 72.5], [25.0, 2.5], [25.0, 5.0], [25.0, 7.5], [25.0, 10.0], [25.0, 12.5], [25.0, 15.0], [25.0, 17.5], [25.0, 20.0], [25.0, 22.5], [25.0, 25.0], [25.0, 27.5], [25.0, 30.0], [25.0, 32.5], [25.0, 35.0], [25.0, 37.5], [25.0, 40.0], [25.0, 42.5], [25.0, 45.0], [25.0, 47.5], [25.0, 50.0], [25.0, 52.5], [25.0, 55.0], [25.0, 57.5], [25.0, 60.0], [25.0, 62.5], [25.0, 65.0], [25.0, 67.5], [25.0, 70.0], [27.5, 2.5], [27.5, 5.0], [27.5, 7.5], [27.5, 10.0], [27.5, 12.5], [27.5, 15.0], [27.5, 17.5], [27.5, 20.0], [27.5, 22.5], [27.5, 25.0], [27.5, 27.5], [27.5, 30.0], [27.5, 32.5], [27.5, 35.0], [27.5, 37.5], [27.5, 40.0], [27.5, 42.5], [27.5, 45.0], [27.5, 47.5], [27.5, 50.0], [27.5, 52.5], [27.5, 55.0], [27.5, 57.5], [27.5, 60.0], [27.5, 62.5], [27.5, 65.0], [27.5, 67.5], [30.0, 2.5], [30.0, 5.0], [30.0, 7.5], [30.0, 10.0], [30.0, 12.5], [30.0, 15.0], [30.0, 17.5], [30.0, 20.0], [30.0, 22.5], [30.0, 25.0], [30.0, 27.5], [30.0, 30.0], [30.0, 32.5], [30.0, 35.0], [30.0, 37.5], [30.0, 40.0], [30.0, 42.5], [30.0, 45.0], [30.0, 47.5], [30.0, 50.0], [30.0, 52.5], [30.0, 55.0], [30.0, 57.5], [30.0, 60.0], [30.0, 62.5], [30.0, 65.0], [32.5, 2.5], [32.5, 5.0], [32.5, 7.5], [32.5, 10.0], [32.5, 12.5], [32.5, 15.0], [32.5, 17.5], [32.5, 20.0], [32.5, 22.5], [32.5, 25.0], [32.5, 27.5], [32.5, 30.0], [32.5, 32.5], [32.5, 35.0], [32.5, 37.5], [32.5, 40.0], [32.5, 42.5], [32.5, 45.0], [32.5, 47.5], [32.5, 50.0], [32.5, 52.5], [32.5, 55.0], [32.5, 57.5], [32.5, 60.0], [32.5, 62.5], [35.0, 2.5], [35.0, 5.0], [35.0, 7.5], [35.0, 10.0], [35.0, 12.5], [35.0, 15.0], [35.0, 17.5], [35.0, 20.0], [35.0, 22.5], [35.0, 25.0], [35.0, 27.5], [35.0, 30.0], [35.0, 32.5], [35.0, 35.0], [35.0, 37.5], [35.0, 40.0], [35.0, 42.5], [35.0, 45.0], [35.0, 47.5], [35.0, 50.0], [35.0, 52.5], [35.0, 55.0], [35.0, 57.5], [35.0, 60.0], [37.5, 2.5], [37.5, 5.0], [37.5, 7.5], [37.5, 10.0], [37.5, 12.5], [37.5, 15.0], [37.5, 17.5], [37.5, 20.0], [37.5, 22.5], [37.5, 25.0], [37.5, 27.5], [37.5, 30.0], [37.5, 32.5], [37.5, 35.0], [37.5, 37.5], [37.5, 40.0], [37.5, 42.5], [37.5, 45.0], [37.5, 47.5], [37.5, 50.0], [37.5, 52.5], [37.5, 55.0], [37.5, 57.5], [40.0, 2.5], [40.0, 5.0], [40.0, 7.5], [40.0, 10.0], [40.0, 12.5], [40.0, 15.0], [40.0, 17.5], [40.0, 20.0], [40.0, 22.5], [40.0, 25.0], [40.0, 27.5], [40.0, 30.0], [40.0, 32.5], [40.0, 35.0], [40.0, 37.5], [40.0, 40.0], [40.0, 42.5], [40.0, 45.0], [40.0, 47.5], [40.0, 50.0], [40.0, 52.5], [40.0, 55.0], [42.5, 2.5], [42.5, 5.0], [42.5, 7.5], [42.5, 10.0], [42.5, 12.5], [42.5, 15.0], [42.5, 17.5], [42.5, 20.0], [42.5, 22.5], [42.5, 25.0], [42.5, 27.5], [42.5, 30.0], [42.5, 32.5], [42.5, 35.0], [42.5, 37.5], [42.5, 40.0], [42.5, 42.5], [42.5, 45.0], [42.5, 47.5], [42.5, 50.0], [42.5, 52.5], [45.0, 2.5], [45.0, 5.0], [45.0, 7.5], [45.0, 10.0], [45.0, 12.5], [45.0, 15.0], [45.0, 17.5], [45.0, 20.0], [45.0, 22.5], [45.0, 25.0], [45.0, 27.5], [45.0, 30.0], [45.0, 32.5], [45.0, 35.0], [45.0, 37.5], [45.0, 40.0], [45.0, 42.5], [45.0, 45.0], [45.0, 47.5], [45.0, 50.0], [47.5, 2.5], [47.5, 5.0], [47.5, 7.5], [47.5, 10.0], [47.5, 12.5], [47.5, 15.0], [47.5, 17.5], [47.5, 20.0], [47.5, 22.5], [47.5, 25.0], [47.5, 27.5], [47.5, 30.0], [47.5, 32.5], [47.5, 35.0], [47.5, 37.5], [47.5, 40.0], [47.5, 42.5], [47.5, 45.0], [47.5, 47.5], [50.0, 2.5], [50.0, 5.0], [50.0, 7.5], [50.0, 10.0], [50.0, 12.5], [50.0, 15.0], [50.0, 17.5], [50.0, 20.0], [50.0, 22.5], [50.0, 25.0], [50.0, 27.5], [50.0, 30.0], [50.0, 32.5], [50.0, 35.0], [50.0, 37.5], [50.0, 40.0], [50.0, 42.5], [50.0, 45.0], [52.5, 2.5], [52.5, 5.0], [52.5, 7.5], [52.5, 10.0], [52.5, 12.5], [52.5, 15.0], [52.5, 17.5], [52.5, 20.0], [52.5, 22.5], [52.5, 25.0], [52.5, 27.5], [52.5, 30.0], [52.5, 32.5], [52.5, 35.0], [52.5, 37.5], [52.5, 40.0], [52.5, 42.5], [55.0, 2.5], [55.0, 5.0], [55.0, 7.5], [55.0, 10.0], [55.0, 12.5], [55.0, 15.0], [55.0, 17.5], [55.0, 20.0], [55.0, 22.5], [55.0, 25.0], [55.0, 27.5], [55.0, 30.0], [55.0, 32.5], [55.0, 35.0], [55.0, 37.5], [55.0, 40.0], [57.5, 2.5], [57.5, 5.0], [57.5, 7.5], [57.5, 10.0], [57.5, 12.5], [57.5, 15.0], [57.5, 17.5], [57.5, 20.0], [57.5, 22.5], [57.5, 25.0], [57.5, 27.5], [57.5, 30.0], [57.5, 32.5], [57.5, 35.0], [57.5, 37.5], [60.0, 2.5], [60.0, 5.0], [60.0, 7.5], [60.0, 10.0], [60.0, 12.5], [60.0, 15.0], [60.0, 17.5], [60.0, 20.0], [60.0, 22.5], [60.0, 25.0], [60.0, 27.5], [60.0, 30.0], [60.0, 32.5], [60.0, 35.0], [62.5, 2.5], [62.5, 5.0], [62.5, 7.5], [62.5, 10.0], [62.5, 12.5], [62.5, 15.0], [62.5, 17.5], [62.5, 20.0], [62.5, 22.5], [62.5, 25.0], [62.5, 27.5], [62.5, 30.0], [62.5, 32.5], [65.0, 2.5], [65.0, 5.0], [65.0, 7.5], [65.0, 10.0], [65.0, 12.5], [65.0, 15.0], [65.0, 17.5], [65.0, 20.0], [65.0, 22.5], [65.0, 25.0], [65.0, 27.5], [65.0, 30.0], [67.5, 2.5], [67.5, 5.0], [67.5, 7.5], [67.5, 10.0], [67.5, 12.5], [67.5, 15.0], [67.5, 17.5], [67.5, 20.0], [67.5, 22.5], [67.5, 25.0], [67.5, 27.5], [70.0, 2.5], [70.0, 5.0], [70.0, 7.5], [70.0, 10.0], [70.0, 12.5], [70.0, 15.0], [70.0, 17.5], [70.0, 20.0], [70.0, 22.5], [70.0, 25.0], [72.5, 2.5], [72.5, 5.0], [72.5, 7.5], [72.5, 10.0], [72.5, 12.5], [72.5, 15.0], [72.5, 17.5], [72.5, 20.0], [72.5, 22.5], [75.0, 2.5], [75.0, 5.0], [75.0, 7.5], [75.0, 10.0], [75.0, 12.5], [75.0, 15.0], [75.0, 17.5], [75.0, 20.0], [77.5, 2.5], [77.5, 5.0], [77.5, 7.5], [77.5, 10.0], [77.5, 12.5], [77.5, 15.0], [77.5, 17.5], [80.0, 2.5], [80.0, 5.0], [80.0, 7.5], [80.0, 10.0], [80.0, 12.5], [80.0, 15.0], [82.5, 2.5], [82.5, 5.0], [82.5, 7.5], [82.5, 10.0], [82.5, 12.5], [85.0, 2.5], [85.0, 5.0], [85.0, 7.5], [85.0, 10.0], [87.5, 2.5], [87.5, 5.0], [87.5, 7.5], [90.0, 2.5], [90.0, 5.0], [92.5, 2.5], [2.5, 93.96446609406726], [93.96446609406726, 2.5]]\n"
     ]
    }
   ],
   "source": [
    "print(store)"
   ]
  },
  {
   "cell_type": "code",
   "execution_count": 450,
   "id": "02083b9f",
   "metadata": {},
   "outputs": [],
   "source": [
    "store = np.array(store)"
   ]
  },
  {
   "cell_type": "code",
   "execution_count": 451,
   "id": "675da0cd",
   "metadata": {},
   "outputs": [
    {
     "name": "stdout",
     "output_type": "stream",
     "text": [
      "705\n"
     ]
    }
   ],
   "source": [
    "print(len(store))"
   ]
  },
  {
   "cell_type": "code",
   "execution_count": 452,
   "id": "c96187af",
   "metadata": {},
   "outputs": [
    {
     "data": {
      "text/plain": [
       "<matplotlib.collections.PathCollection at 0x259e75b83d0>"
      ]
     },
     "execution_count": 452,
     "metadata": {},
     "output_type": "execute_result"
    },
    {
     "data": {
      "image/png": "[encoded data removed]",
      "text/plain": [
       "<Figure size 432x288 with 1 Axes>"
      ]
     },
     "metadata": {
      "needs_background": "light"
     },
     "output_type": "display_data"
    }
   ],
   "source": [
    "# Visualize\n",
    "x = store[:,0]\n",
    "y = store[:,1]\n",
    "#plt.figure(figsize = (150, 60))\n",
    "plt.plot((0, 0), (0, y_max), scaley = False,c='blue',alpha = 0.75)\n",
    "plt.plot((x_max, 0),(0, 0),scaley = False,c='blue',alpha = 0.75)\n",
    "plt.plot((0, x_max), (y_max, 0), scaley = False,c='blue',alpha = 0.75)\n",
    "\n",
    "plt.plot((step,(x_max-delta_x)),((y_max-delta_y),step),'m--',label = '2.5 um separation',alpha = 0.75)\n",
    "plt.plot((step,step),(step,(y_max-delta_y)),'m--',alpha = 0.75)\n",
    "plt.plot((step,(x_max-delta_x)),(step,step),'m--',alpha = 0.75)\n",
    "\n",
    "plt.scatter(x,y,s=25,c='green',edgecolor = 'black',alpha = 0.75)"
   ]
  },
  {
   "cell_type": "code",
   "execution_count": 453,
   "id": "0fa40a1f",
   "metadata": {},
   "outputs": [
    {
     "name": "stdout",
     "output_type": "stream",
     "text": [
      "100.0\n"
     ]
    }
   ],
   "source": [
    "# From p3 to p1 and p2\n",
    "# Only for Testing\n",
    "\n",
    "p1 = np.array([0,0])\n",
    "p2 = np.array([0,y_max])\n",
    "p3 = np.array([x_max,0])\n",
    "d = abs(np.cross(p2-p1,p3-p1)/np.linalg.norm(p2-p1))\n",
    "print(d)"
   ]
  },
  {
   "cell_type": "code",
   "execution_count": 454,
   "id": "dde37507",
   "metadata": {},
   "outputs": [],
   "source": [
    "# Function that measures distance from a point p to a line formed by p1 & p2\n",
    "\n",
    "def dist(p1,p2,p):\n",
    "    d = abs(np.cross(p2-p1,p-p1)/np.linalg.norm(p2-p1))\n",
    "    return d"
   ]
  },
  {
   "cell_type": "code",
   "execution_count": 455,
   "id": "df5408c1",
   "metadata": {},
   "outputs": [],
   "source": [
    "# Function that returns the min distance (from p to 3 lines)\n",
    "# Returns a value\n",
    "\n",
    "def min_dist_of_all(p1,p2,p3,p):\n",
    "    d1 = dist(p1,p2,p)\n",
    "    d2 = dist(p2,p3,p)\n",
    "    d3 = dist(p3,p1,p)\n",
    "    return min(d1,d2,d3)"
   ]
  },
  {
   "cell_type": "code",
   "execution_count": 456,
   "id": "95e94076",
   "metadata": {},
   "outputs": [],
   "source": [
    "# Function that returns the max distance (from p to 3 lines)\n",
    "\n",
    "def max_dist_of_all(p1,p2,p3,p):\n",
    "    d1 = dist(p1,p2,p)\n",
    "    d2 = dist(p2,p3,p)\n",
    "    d3 = dist(p3,p1,p)\n",
    "    return max(d1,d2,d3)"
   ]
  },
  {
   "cell_type": "code",
   "execution_count": 457,
   "id": "e2bd66eb",
   "metadata": {},
   "outputs": [
    {
     "name": "stdout",
     "output_type": "stream",
     "text": [
      "10.0\n",
      "45.96194077712559\n"
     ]
    }
   ],
   "source": [
    "# Testing a point p(25,10)\n",
    "\n",
    "p1 = np.array([0,0])\n",
    "p2 = np.array([0,y_max])\n",
    "p3 = np.array([x_max,0])\n",
    "p = np.array([25,10])\n",
    "print(min_dist_of_all(p1,p2,p3,p))\n",
    "print(max_dist_of_all(p1,p2,p3,p))"
   ]
  },
  {
   "cell_type": "code",
   "execution_count": 458,
   "id": "6396453b",
   "metadata": {},
   "outputs": [],
   "source": [
    "# Calculates min_d, max_d of all points in \"store\" by traversing all points in numpy array\n",
    "\n",
    "min_d = []\n",
    "max_d = []\n",
    "for i in range(0,len(store)):\n",
    "    min_d.append(min_dist_of_all(p1,p2,p3,store[i]))\n",
    "    max_d.append(max_dist_of_all(p1,p2,p3,store[i]))\n",
    "\n",
    "min_d = np.array(min_d)\n",
    "max_d = np.array(max_d)"
   ]
  },
  {
   "cell_type": "code",
   "execution_count": 459,
   "id": "280a5242",
   "metadata": {},
   "outputs": [
    {
     "name": "stdout",
     "output_type": "stream",
     "text": [
      "[ 2.5         2.5         2.5         2.5         2.5         2.5\n",
      "  2.5         2.5         2.5         2.5         2.5         2.5\n",
      "  2.5         2.5         2.5         2.5         2.5         2.5\n",
      "  2.5         2.5         2.5         2.5         2.5         2.5\n",
      "  2.5         2.5         2.5         2.5         2.5         2.5\n",
      "  2.5         2.5         2.5         2.5         2.5         2.5\n",
      "  2.5         2.5         5.          5.          5.          5.\n",
      "  5.          5.          5.          5.          5.          5.\n",
      "  5.          5.          5.          5.          5.          5.\n",
      "  5.          5.          5.          5.          5.          5.\n",
      "  5.          5.          5.          5.          5.          5.\n",
      "  5.          5.          5.          5.          5.          5.\n",
      "  3.53553391  2.5         5.          7.5         7.5         7.5\n",
      "  7.5         7.5         7.5         7.5         7.5         7.5\n",
      "  7.5         7.5         7.5         7.5         7.5         7.5\n",
      "  7.5         7.5         7.5         7.5         7.5         7.5\n",
      "  7.5         7.5         7.5         7.5         7.5         7.5\n",
      "  7.5         7.5         7.5         7.07106781  5.30330086  3.53553391\n",
      "  2.5         5.          7.5        10.         10.         10.\n",
      " 10.         10.         10.         10.         10.         10.\n",
      " 10.         10.         10.         10.         10.         10.\n",
      " 10.         10.         10.         10.         10.         10.\n",
      " 10.         10.         10.         10.         10.         10.\n",
      "  8.83883476  7.07106781  5.30330086  3.53553391  2.5         5.\n",
      "  7.5        10.         12.5        12.5        12.5        12.5\n",
      " 12.5        12.5        12.5        12.5        12.5        12.5\n",
      " 12.5        12.5        12.5        12.5        12.5        12.5\n",
      " 12.5        12.5        12.5        12.5        12.5        12.5\n",
      " 12.5        12.37436867 10.60660172  8.83883476  7.07106781  5.30330086\n",
      "  3.53553391  2.5         5.          7.5        10.         12.5\n",
      " 15.         15.         15.         15.         15.         15.\n",
      " 15.         15.         15.         15.         15.         15.\n",
      " 15.         15.         15.         15.         15.         15.\n",
      " 15.         15.         14.14213562 12.37436867 10.60660172  8.83883476\n",
      "  7.07106781  5.30330086  3.53553391  2.5         5.          7.5\n",
      " 10.         12.5        15.         17.5        17.5        17.5\n",
      " 17.5        17.5        17.5        17.5        17.5        17.5\n",
      " 17.5        17.5        17.5        17.5        17.5        17.5\n",
      " 17.5        17.5        15.90990258 14.14213562 12.37436867 10.60660172\n",
      "  8.83883476  7.07106781  5.30330086  3.53553391  2.5         5.\n",
      "  7.5        10.         12.5        15.         17.5        20.\n",
      " 20.         20.         20.         20.         20.         20.\n",
      " 20.         20.         20.         20.         20.         20.\n",
      " 19.44543648 17.67766953 15.90990258 14.14213562 12.37436867 10.60660172\n",
      "  8.83883476  7.07106781  5.30330086  3.53553391  2.5         5.\n",
      "  7.5        10.         12.5        15.         17.5        20.\n",
      " 22.5        22.5        22.5        22.5        22.5        22.5\n",
      " 22.5        22.5        22.5        22.5        21.21320344 19.44543648\n",
      " 17.67766953 15.90990258 14.14213562 12.37436867 10.60660172  8.83883476\n",
      "  7.07106781  5.30330086  3.53553391  2.5         5.          7.5\n",
      " 10.         12.5        15.         17.5        20.         22.5\n",
      " 25.         25.         25.         25.         25.         25.\n",
      " 24.74873734 22.98097039 21.21320344 19.44543648 17.67766953 15.90990258\n",
      " 14.14213562 12.37436867 10.60660172  8.83883476  7.07106781  5.30330086\n",
      "  3.53553391  2.5         5.          7.5        10.         12.5\n",
      " 15.         17.5        20.         22.5        25.         27.5\n",
      " 27.5        27.5        26.51650429 24.74873734 22.98097039 21.21320344\n",
      " 19.44543648 17.67766953 15.90990258 14.14213562 12.37436867 10.60660172\n",
      "  8.83883476  7.07106781  5.30330086  3.53553391  2.5         5.\n",
      "  7.5        10.         12.5        15.         17.5        20.\n",
      " 22.5        25.         27.5        28.28427125 26.51650429 24.74873734\n",
      " 22.98097039 21.21320344 19.44543648 17.67766953 15.90990258 14.14213562\n",
      " 12.37436867 10.60660172  8.83883476  7.07106781  5.30330086  3.53553391\n",
      "  2.5         5.          7.5        10.         12.5        15.\n",
      " 17.5        20.         22.5        25.         27.5        26.51650429\n",
      " 24.74873734 22.98097039 21.21320344 19.44543648 17.67766953 15.90990258\n",
      " 14.14213562 12.37436867 10.60660172  8.83883476  7.07106781  5.30330086\n",
      "  3.53553391  2.5         5.          7.5        10.         12.5\n",
      " 15.         17.5        20.         22.5        25.         26.51650429\n",
      " 24.74873734 22.98097039 21.21320344 19.44543648 17.67766953 15.90990258\n",
      " 14.14213562 12.37436867 10.60660172  8.83883476  7.07106781  5.30330086\n",
      "  3.53553391  2.5         5.          7.5        10.         12.5\n",
      " 15.         17.5        20.         22.5        25.         24.74873734\n",
      " 22.98097039 21.21320344 19.44543648 17.67766953 15.90990258 14.14213562\n",
      " 12.37436867 10.60660172  8.83883476  7.07106781  5.30330086  3.53553391\n",
      "  2.5         5.          7.5        10.         12.5        15.\n",
      " 17.5        20.         22.5        24.74873734 22.98097039 21.21320344\n",
      " 19.44543648 17.67766953 15.90990258 14.14213562 12.37436867 10.60660172\n",
      "  8.83883476  7.07106781  5.30330086  3.53553391  2.5         5.\n",
      "  7.5        10.         12.5        15.         17.5        20.\n",
      " 22.5        22.98097039 21.21320344 19.44543648 17.67766953 15.90990258\n",
      " 14.14213562 12.37436867 10.60660172  8.83883476  7.07106781  5.30330086\n",
      "  3.53553391  2.5         5.          7.5        10.         12.5\n",
      " 15.         17.5        20.         22.5        21.21320344 19.44543648\n",
      " 17.67766953 15.90990258 14.14213562 12.37436867 10.60660172  8.83883476\n",
      "  7.07106781  5.30330086  3.53553391  2.5         5.          7.5\n",
      " 10.         12.5        15.         17.5        20.         21.21320344\n",
      " 19.44543648 17.67766953 15.90990258 14.14213562 12.37436867 10.60660172\n",
      "  8.83883476  7.07106781  5.30330086  3.53553391  2.5         5.\n",
      "  7.5        10.         12.5        15.         17.5        20.\n",
      " 19.44543648 17.67766953 15.90990258 14.14213562 12.37436867 10.60660172\n",
      "  8.83883476  7.07106781  5.30330086  3.53553391  2.5         5.\n",
      "  7.5        10.         12.5        15.         17.5        19.44543648\n",
      " 17.67766953 15.90990258 14.14213562 12.37436867 10.60660172  8.83883476\n",
      "  7.07106781  5.30330086  3.53553391  2.5         5.          7.5\n",
      " 10.         12.5        15.         17.5        17.67766953 15.90990258\n",
      " 14.14213562 12.37436867 10.60660172  8.83883476  7.07106781  5.30330086\n",
      "  3.53553391  2.5         5.          7.5        10.         12.5\n",
      " 15.         17.5        15.90990258 14.14213562 12.37436867 10.60660172\n",
      "  8.83883476  7.07106781  5.30330086  3.53553391  2.5         5.\n",
      "  7.5        10.         12.5        15.         15.90990258 14.14213562\n",
      " 12.37436867 10.60660172  8.83883476  7.07106781  5.30330086  3.53553391\n",
      "  2.5         5.          7.5        10.         12.5        15.\n",
      " 14.14213562 12.37436867 10.60660172  8.83883476  7.07106781  5.30330086\n",
      "  3.53553391  2.5         5.          7.5        10.         12.5\n",
      " 14.14213562 12.37436867 10.60660172  8.83883476  7.07106781  5.30330086\n",
      "  3.53553391  2.5         5.          7.5        10.         12.5\n",
      " 12.37436867 10.60660172  8.83883476  7.07106781  5.30330086  3.53553391\n",
      "  2.5         5.          7.5        10.         12.37436867 10.60660172\n",
      "  8.83883476  7.07106781  5.30330086  3.53553391  2.5         5.\n",
      "  7.5        10.         10.60660172  8.83883476  7.07106781  5.30330086\n",
      "  3.53553391  2.5         5.          7.5        10.          8.83883476\n",
      "  7.07106781  5.30330086  3.53553391  2.5         5.          7.5\n",
      "  8.83883476  7.07106781  5.30330086  3.53553391  2.5         5.\n",
      "  7.5         7.07106781  5.30330086  3.53553391  2.5         5.\n",
      "  7.07106781  5.30330086  3.53553391  2.5         5.          5.30330086\n",
      "  3.53553391  2.5         5.          3.53553391  2.5         3.53553391\n",
      "  2.5         2.5         2.5       ]\n",
      "705\n"
     ]
    }
   ],
   "source": [
    "print(min_d)\n",
    "print(len(min_d))"
   ]
  },
  {
   "cell_type": "code",
   "execution_count": 460,
   "id": "e9675af5",
   "metadata": {},
   "outputs": [],
   "source": [
    "# Function that calculates probability of each point inside \"store\" array\n",
    "# Depending on relative positions\n",
    "# More probaility nearer the edge\n",
    "\n",
    "def P_xy(store,min_d,max_d):\n",
    "    prob = []\n",
    "    for i in range(0,len(store)):\n",
    "        if min_d[i] == 2.5:\n",
    "            prob.append(1)\n",
    "        else:\n",
    "            prob.append(1-min_d[i]/max_d[i]*0.99)\n",
    "            \n",
    "    return prob"
   ]
  },
  {
   "cell_type": "code",
   "execution_count": 461,
   "id": "e10e0ab5",
   "metadata": {},
   "outputs": [],
   "source": [
    "P_xy = np.array(P_xy(store,min_d,max_d))"
   ]
  },
  {
   "cell_type": "code",
   "execution_count": 462,
   "id": "d99ad81e",
   "metadata": {},
   "outputs": [
    {
     "name": "stdout",
     "output_type": "stream",
     "text": [
      "[1.         1.         1.         1.         1.         1.\n",
      " 1.         1.         1.         1.         1.         1.\n",
      " 1.         1.         1.         1.         1.         1.\n",
      " 1.         1.         1.         1.         1.         1.\n",
      " 1.         1.         1.         1.         1.         1.\n",
      " 1.         1.         1.         1.         1.         1.\n",
      " 1.         1.         0.92221825 0.91999592 0.91764286 0.91514719\n",
      " 0.91249554 0.90967281 0.9066619  0.90344335 0.8999949  0.89629101\n",
      " 0.8923022  0.88799429 0.88332738 0.87825466 0.87625    0.88352941\n",
      " 0.89       0.89578947 0.901      0.90571429 0.91       0.91391304\n",
      " 0.9175     0.9208     0.92384615 0.92666667 0.92928571 0.93172414\n",
      " 0.934      0.93612903 0.938125   0.94       0.94176471 0.94342857\n",
      " 0.96110913 1.         0.91999592 0.87646429 0.87272078 0.8687433\n",
      " 0.86450922 0.85999286 0.85516502 0.84999235 0.84443651 0.8384533\n",
      " 0.83199143 0.82499107 0.81738199 0.80908117 0.814375   0.82529412\n",
      " 0.835      0.84368421 0.8515     0.85857143 0.865      0.87086957\n",
      " 0.87625    0.8812     0.88576923 0.89       0.89392857 0.89758621\n",
      " 0.901      0.90419355 0.9071875  0.91514719 0.93823214 0.95999796\n",
      " 1.         0.91764286 0.87272078 0.82499107 0.81934562 0.81332381\n",
      " 0.8068867  0.7999898  0.79258201 0.7846044  0.77598857 0.76665476\n",
      " 0.75650932 0.74544156 0.736      0.7525     0.76705882 0.78\n",
      " 0.79157895 0.802      0.81142857 0.82       0.82782609 0.835\n",
      " 0.8416     0.84769231 0.85333333 0.85857143 0.86344828 0.868\n",
      " 0.88709101 0.91249554 0.93636039 0.95882143 1.         0.91514719\n",
      " 0.8687433  0.81934562 0.76665476 0.75860837 0.74998725 0.74072751\n",
      " 0.73075549 0.71998571 0.70831845 0.69563665 0.68180195 0.66664966\n",
      " 0.67       0.690625   0.70882353 0.725      0.73947368 0.7525\n",
      " 0.76428571 0.775      0.78478261 0.79375    0.802      0.80961538\n",
      " 0.81666667 0.82499107 0.85516502 0.88332738 0.90967281 0.93437165\n",
      " 0.95757359 1.         0.91249554 0.86450922 0.81332381 0.75860837\n",
      " 0.69998469 0.68887302 0.67690659 0.66398286 0.64998214 0.63476398\n",
      " 0.61816234 0.59997959 0.57997857 0.604      0.62875    0.65058824\n",
      " 0.67       0.68736842 0.703      0.71714286 0.73       0.74173913\n",
      " 0.7525     0.7624     0.7846044  0.81850926 0.84999235 0.87930419\n",
      " 0.9066619  0.93225461 0.95624777 1.         0.90967281 0.85999286\n",
      " 0.8068867  0.74998725 0.68887302 0.62305769 0.60798    0.59164583\n",
      " 0.5738913  0.55452273 0.53330952 0.509975   0.505      0.538\n",
      " 0.566875   0.59235294 0.615      0.63526316 0.6535     0.67\n",
      " 0.685      0.69869565 0.73748661 0.77598857 0.81152885 0.84443651\n",
      " 0.87499362 0.90344335 0.92999643 0.95483641 1.         0.9066619\n",
      " 0.85516502 0.7999898  0.74072751 0.67690659 0.60798    0.53330952\n",
      " 0.51301863 0.49088312 0.46663946 0.43997143 0.41049624 0.43428571\n",
      " 0.472      0.505      0.53411765 0.56       0.58315789 0.604\n",
      " 0.63331463 0.68180195 0.72607298 0.76665476 0.80399    0.8384533\n",
      " 0.87036376 0.8999949  0.92758251 0.95333095 1.         0.90344335\n",
      " 0.84999235 0.79258201 0.73075549 0.66398286 0.59164583 0.51301863\n",
      " 0.42724351 0.39996939 0.36996786 0.33680827 0.31461538 0.36357143\n",
      " 0.406      0.443125   0.47588235 0.505      0.55787218 0.61498036\n",
      " 0.66664966 0.71362175 0.75650932 0.79582292 0.83199143 0.86537775\n",
      " 0.89629101 0.92499617 0.95172167 1.         0.8999949  0.84443651\n",
      " 0.7846044  0.71998571 0.64998214 0.5738913  0.49088312 0.39996939\n",
      " 0.29996429 0.2631203  0.22218254 0.23846154 0.29285714 0.34\n",
      " 0.38746875 0.46467857 0.53330952 0.59471617 0.64998214 0.69998469\n",
      " 0.74544156 0.78694565 0.82499107 0.85999286 0.8923022  0.92221825\n",
      " 0.94999745 1.         0.89629101 0.8384533  0.77598857 0.70831845\n",
      " 0.63476398 0.55452273 0.46663946 0.36996786 0.2631203  0.14440079\n",
      " 0.09407143 0.16230769 0.24996174 0.34663333 0.43122098 0.50585714\n",
      " 0.5722004  0.63156015 0.68498393 0.73331973 0.77726136 0.81738199\n",
      " 0.85415923 0.88799429 0.91922665 0.9481455  1.         0.8923022\n",
      " 0.83199143 0.76665476 0.69563665 0.61816234 0.53330952 0.43997143\n",
      " 0.33680827 0.22218254 0.09407143 0.06661905 0.19226648 0.29996429\n",
      " 0.39330238 0.47497321 0.54703571 0.61109127 0.66840414 0.71998571\n",
      " 0.76665476 0.80908117 0.84781832 0.88332738 0.91599571 0.9461511\n",
      " 1.         0.88799429 0.82499107 0.75650932 0.68180195 0.59997959\n",
      " 0.509975   0.41049624 0.31461538 0.23846154 0.16230769 0.19226648\n",
      " 0.24611539 0.34996684 0.43997143 0.51872545 0.58821429 0.64998214\n",
      " 0.70524812 0.7549875  0.7999898  0.84090097 0.87825466 0.91249554\n",
      " 0.94399714 1.         0.88332738 0.81738199 0.74544156 0.66664966\n",
      " 0.57997857 0.505      0.43428571 0.36357143 0.29285714 0.24996174\n",
      " 0.29996429 0.34996684 0.39996939 0.48664048 0.56247768 0.62939286\n",
      " 0.68887302 0.74209211 0.78998929 0.83332483 0.87272078 0.90869099\n",
      " 0.94166369 1.         0.87825466 0.80908117 0.736      0.67\n",
      " 0.604      0.538      0.472      0.406      0.34       0.34663333\n",
      " 0.39330238 0.43997143 0.48664048 0.53330952 0.60622991 0.67057143\n",
      " 0.72776389 0.77893609 0.82499107 0.86665986 0.90454058 0.93912733\n",
      " 1.         0.87625    0.814375   0.7525     0.690625   0.62875\n",
      " 0.566875   0.505      0.443125   0.38746875 0.43122098 0.47497321\n",
      " 0.51872545 0.56247768 0.60622991 0.64998214 0.71175    0.76665476\n",
      " 0.81578008 0.85999286 0.8999949  0.93636039 1.         0.88352941\n",
      " 0.82529412 0.76705882 0.70882353 0.65058824 0.59235294 0.53411765\n",
      " 0.47588235 0.46467857 0.50585714 0.54703571 0.58821429 0.62939286\n",
      " 0.67057143 0.71175    0.75292857 0.80554564 0.85262406 0.89499464\n",
      " 0.93332993 1.         0.89       0.835      0.78       0.725\n",
      " 0.67       0.615      0.56       0.505      0.53330952 0.5722004\n",
      " 0.61109127 0.64998214 0.68887302 0.72776389 0.76665476 0.80554564\n",
      " 0.84443651 0.88946805 0.92999643 1.         0.89578947 0.84368421\n",
      " 0.79157895 0.73947368 0.68736842 0.63526316 0.58315789 0.55787218\n",
      " 0.59471617 0.63156015 0.66840414 0.70524812 0.74209211 0.77893609\n",
      " 0.81578008 0.85262406 0.88946805 0.92631203 1.         0.901\n",
      " 0.8515     0.802      0.7525     0.703      0.6535     0.604\n",
      " 0.61498036 0.64998214 0.68498393 0.71998571 0.7549875  0.78998929\n",
      " 0.82499107 0.85999286 0.89499464 0.92999643 1.         0.90571429\n",
      " 0.85857143 0.81142857 0.76428571 0.71714286 0.67       0.63331463\n",
      " 0.66664966 0.69998469 0.73331973 0.76665476 0.7999898  0.83332483\n",
      " 0.86665986 0.8999949  0.93332993 1.         0.91       0.865\n",
      " 0.82       0.775      0.73       0.685      0.68180195 0.71362175\n",
      " 0.74544156 0.77726136 0.80908117 0.84090097 0.87272078 0.90454058\n",
      " 0.93636039 1.         0.91391304 0.87086957 0.82782609 0.78478261\n",
      " 0.74173913 0.69869565 0.72607298 0.75650932 0.78694565 0.81738199\n",
      " 0.84781832 0.87825466 0.90869099 0.93912733 1.         0.9175\n",
      " 0.87625    0.835      0.79375    0.7525     0.73748661 0.76665476\n",
      " 0.79582292 0.82499107 0.85415923 0.88332738 0.91249554 0.94166369\n",
      " 1.         0.9208     0.8812     0.8416     0.802      0.7624\n",
      " 0.77598857 0.80399    0.83199143 0.85999286 0.88799429 0.91599571\n",
      " 0.94399714 1.         0.92384615 0.88576923 0.84769231 0.80961538\n",
      " 0.7846044  0.81152885 0.8384533  0.86537775 0.8923022  0.91922665\n",
      " 0.9461511  1.         0.92666667 0.89       0.85333333 0.81666667\n",
      " 0.81850926 0.84443651 0.87036376 0.89629101 0.92221825 0.9481455\n",
      " 1.         0.92928571 0.89392857 0.85857143 0.82499107 0.84999235\n",
      " 0.87499362 0.8999949  0.92499617 0.94999745 1.         0.93172414\n",
      " 0.89758621 0.86344828 0.85516502 0.87930419 0.90344335 0.92758251\n",
      " 0.95172167 1.         0.934      0.901      0.868      0.88332738\n",
      " 0.9066619  0.92999643 0.95333095 1.         0.93612903 0.90419355\n",
      " 0.88709101 0.90967281 0.93225461 0.95483641 1.         0.938125\n",
      " 0.9071875  0.91249554 0.93437165 0.95624777 1.         0.94\n",
      " 0.91514719 0.93636039 0.95757359 1.         0.94176471 0.93823214\n",
      " 0.95882143 1.         0.94342857 0.95999796 1.         0.96110913\n",
      " 1.         1.         0.97366026]\n",
      "705\n"
     ]
    }
   ],
   "source": [
    "print(P_xy)\n",
    "print(len(P_xy))"
   ]
  },
  {
   "cell_type": "code",
   "execution_count": 463,
   "id": "435d4adc",
   "metadata": {},
   "outputs": [],
   "source": [
    "# Generates a random Numpy array with floats [0,1]\n",
    "rand_Gen = []\n",
    "for i in range(0,len(store)):\n",
    "    rand_Gen.append(np.random.random())"
   ]
  },
  {
   "cell_type": "code",
   "execution_count": 464,
   "id": "ce03b0b6",
   "metadata": {},
   "outputs": [
    {
     "name": "stdout",
     "output_type": "stream",
     "text": [
      "[0.7875161077609477, 0.012837642032880181, 0.4689639955391094, 0.47152750419120826, 0.39082783568756263, 0.4548426415419665, 0.9938126612940429, 0.7466661510286525, 0.3773243561768329, 0.8351117081973747, 0.5392528028673457, 0.31479850225183725, 0.4081210174236606, 0.03814168341869972, 0.5626360800457412, 0.7874378145171678, 0.12160189655407871, 0.9227405611682149, 0.25792898093448235, 0.1445830732122746, 0.24833092335296714, 0.10593169417950288, 0.1435841840040677, 0.31393278404295966, 0.39410428863703517, 0.3620933650707012, 0.28879873537211587, 0.4303536348424444, 0.7307095594311186, 0.395482896500849, 0.4366244310617191, 0.4698558020944077, 0.3982714392133484, 0.7267955204192628, 0.43922149398197197, 0.444506460713909, 0.7890477207723454, 0.20479693638600605, 0.16510065686788145, 0.511910013380042, 0.08097674749217543, 0.3867617968612008, 0.7975997960426422, 0.12147717051866291, 0.3429935042175407, 0.3623081779269981, 0.47404492910079854, 0.9420026566153827, 0.1333881663717783, 0.8365799949469712, 0.010643799373665885, 0.9322956709272192, 0.37286122715231884, 0.9359395478482275, 0.9361304085207293, 0.42353621360183324, 0.6039923843360278, 0.2899480864173313, 0.5978300306302046, 0.03883856823309151, 0.05139488960405714, 0.03774407214692521, 0.04209435430344388, 0.9975327441466131, 0.048893184412488355, 0.17631498942510437, 0.7679391919956028, 0.5545622894126381, 0.7037865758077843, 0.7108942500520941, 0.8716597213981483, 0.7161926580838874, 0.708545898011364, 0.9001039996627402, 0.24323392631328533, 0.2673897113905891, 0.49445688055798787, 0.01181209325432886, 0.35765633936705776, 0.09674700910889722, 0.5174907369284328, 0.4243693344787405, 0.16537174359781626, 0.47536227293708855, 0.8917391592550354, 0.10785279723188834, 0.10403402888199542, 0.758982835603906, 0.5067494757672455, 0.7155350987395315, 0.1749686696653231, 0.9491493837684307, 0.10119130611904004, 0.5432476684937543, 0.9336347242694848, 0.35152405860053215, 0.9114006586453507, 0.9562001298355102, 0.23932307332015423, 0.7021285913912563, 0.04220401959399589, 0.8802722274951834, 0.3609926982866982, 0.23338036482114421, 0.3695564657961482, 0.22446843672781436, 0.8373047797369924, 0.8819063282229468, 0.8843696966225161, 0.808160289267113, 0.1852806476827057, 0.9412776131267033, 0.2770737144852118, 0.7829929342259979, 0.3113871968719456, 0.056857929209689684, 0.8573828431005461, 0.8480675994613088, 0.5705980751626216, 0.40080652473134226, 0.8048926955781213, 0.9950904288230241, 0.8787320965598187, 0.14153040311677922, 0.745469051837273, 0.4990621359953381, 0.5553027104370175, 0.996929652854386, 0.7433144167097888, 0.17451381906149643, 0.8832019431215639, 0.7325754525773307, 0.449616195745032, 0.35584075201722876, 0.3842170532265591, 0.12155244004210464, 0.6875202879587861, 0.4268662972657685, 0.8441979783068797, 0.4018576578487649, 0.1988357836758976, 0.09907777738267565, 0.031687491904020426, 0.40849771206569874, 0.16065237875656568, 0.9209207099664714, 0.948638295099442, 0.9634916787217218, 0.6705626887770896, 0.01959088976197154, 0.7713203406465485, 0.021556913817193823, 0.9108195632033138, 0.05823439328831381, 0.8718329050510237, 0.7746574764845845, 0.07358894296773733, 0.28734677597759894, 0.5983714636581335, 0.3393033251494114, 0.7274057799888994, 0.06502183970267816, 0.44159215979582833, 0.5373273751705497, 0.7615032854516016, 0.5008164324790841, 0.6413394832013369, 0.10205801387859936, 0.4009385073050562, 0.9928794705332817, 0.7072882520440278, 0.6619944478600328, 0.6526077379345937, 0.9613425672978195, 0.31940930693582026, 0.11223515259515249, 0.4654598469583813, 0.9777678631419748, 0.3610815395019278, 0.34321884612890796, 0.30784713002649366, 0.16933804306240186, 0.03295435714507622, 0.042717293900534026, 0.09393973386739296, 0.84736376360453, 0.40037707298914704, 0.8923539244951405, 0.08478221950194431, 0.1663787848169762, 0.16700452771049512, 0.376794803744534, 0.04261366893239826, 0.6860046157927312, 0.12903280763004576, 0.45014188106574715, 0.06377908953495681, 0.5683064203546927, 0.4793425103903667, 0.031694515205827, 0.944107320314741, 0.2630693031467347, 0.4146719161057474, 0.8285217517227461, 0.26453643172527475, 0.2697767085453191, 0.9907053648389372, 0.14337116192146282, 0.2839702373714523, 0.9671381920159863, 0.9521687260120134, 0.9745188363063081, 0.12841159140721448, 0.7154747134674192, 0.5188489226326456, 0.36552390248560995, 0.31564217098665626, 0.4111832386463655, 0.41250787923587295, 0.6093142916608197, 0.5426170666934926, 0.7684480363620008, 0.6835899747748423, 0.34600821392355585, 0.4470727112208277, 0.30811883249274796, 0.5059616489396361, 0.4947754642571327, 0.8998478584024111, 0.17586119090284413, 0.7724429572421213, 0.9193272723321697, 0.33255949060700585, 0.46424891714450656, 0.40121592711687526, 0.34003905351804053, 0.7753632686096028, 0.49505240618891444, 0.6208388767626118, 0.9636718320722016, 0.06796909994269851, 0.6626938369516528, 0.5632330547304516, 0.17001288241062473, 0.4949584290842066, 0.33661075368814464, 0.28755077055628286, 0.653586578941591, 0.7353794868735289, 0.15511565572760388, 0.11191269096579526, 0.39314210364249236, 0.2293769139890679, 0.0828259111679539, 0.3635812669944235, 0.8112223320123261, 0.08107671670460426, 0.34358373643052886, 0.31395195222422856, 0.291537052754248, 0.828450338098017, 0.8492864945911468, 0.10152076933478038, 0.16035142326967877, 0.6623802707809575, 0.5728615456235594, 0.43724704670731507, 0.6400362379613006, 0.5020950215998248, 0.5743259380452678, 0.7063292581653314, 0.05391035052758142, 0.4609260563981177, 0.9758892587409409, 0.7104238982834847, 0.6618016736783375, 0.01003837145173947, 0.5553371190376345, 0.8005179844090814, 0.19436462006013322, 0.5269724344910984, 0.2607755812530038, 0.5568217293135452, 0.45760954655275976, 0.6558402601573694, 0.3141296531858907, 0.859866462023888, 0.23071554326631183, 0.5662714038894241, 0.04194536859335685, 0.9423892290866912, 0.6404015704128808, 0.7363983759742578, 0.29910973492662385, 0.46873884850050906, 0.10667116412467181, 0.30901607896190963, 0.0014888641109216394, 0.7931036127715335, 0.14237097126713993, 0.09251833032025791, 0.42101215787821433, 0.8190143221415798, 0.11365752293507614, 0.655975779864909, 0.45596977274757444, 0.23798820214577565, 0.8649502522981133, 0.7487389723291602, 0.8774950797714256, 0.5824756409416063, 0.7605745860485162, 0.8116870937659783, 0.5940488504820797, 0.814355299640092, 0.28137398097120303, 0.5018494909455051, 0.6177640530049504, 0.5429709980998232, 0.012538875390074145, 0.8300387996163263, 0.6303250244014373, 0.6795114567340882, 0.9608298773973638, 0.018541656401948048, 0.5360732573389303, 0.9924907561152967, 0.7739954221290113, 0.41684356350064444, 0.4688236278900779, 0.6670189957081646, 0.4038871509679408, 0.7414121107915449, 0.9144521685525742, 0.04944154335648909, 0.19782591655999704, 0.00021753805428126327, 0.01362551455134764, 0.5042822099069394, 0.4827181334002887, 0.457046132782983, 0.7852559626380164, 0.6937004836046303, 0.936619602396913, 0.039885920085550364, 0.7799317849802825, 0.358551172670625, 0.6054754523374489, 0.6540811989426998, 0.42995210946203266, 0.38692167071820804, 0.7370625967817283, 0.5171548466224113, 0.21459782951898765, 0.33814248253116264, 0.7589784565825882, 0.001543064945455197, 0.6145793972856353, 0.06897211877803266, 0.22113920914237772, 0.4355498992142327, 0.21684289736075124, 0.8855779801919249, 0.23896465732418437, 0.11336606693827056, 0.039996245426457966, 0.1555372053779832, 0.901112348438584, 0.9820883910118925, 0.6897950691270269, 0.28350360682917397, 0.033522006663482484, 0.7126309820165206, 0.34706331861242057, 0.4646789815126642, 0.8820579733885056, 0.061910911442946914, 0.04606385806301683, 0.4604592090592058, 0.46704747440934724, 0.24926185259966194, 0.7837200050562306, 0.11594125690177493, 0.7152874580823926, 0.8513188136817746, 0.8980443194542045, 0.43715101689231384, 0.03180073232911462, 0.5156161769288051, 0.11343941221627385, 0.029783080399602757, 0.7895754080148663, 0.6526342704954042, 0.36948818281235385, 0.33709408395918516, 0.7399243690709782, 0.4600921077358766, 0.46641596366649507, 0.46593088353829937, 0.42653853529720387, 0.46081076645712826, 0.6659772514874857, 0.2364904910058746, 0.9735059522681055, 0.5766571615763562, 0.8610140803218861, 0.9952529409263955, 0.6530401587677812, 0.21182900365583435, 0.23892325239389078, 0.9971823587814546, 0.6078198675913095, 0.354584929903105, 0.17961934754667774, 0.6253002704025875, 0.4174835026781002, 0.6859218208443979, 0.8025507090938809, 0.157870944918176, 0.6691802193640264, 0.2601084772444898, 0.5615047267291623, 0.7341100926016806, 0.7079671394514123, 0.8266670759077975, 0.3666358336846971, 0.5467485348940984, 0.7335893921300084, 0.6629246515946325, 0.263941640025805, 0.948109207460482, 0.9389807365690668, 0.04035044396136389, 0.6907442696220963, 0.26814445844614243, 0.06959019203747241, 0.31059589199257753, 0.7834151974309198, 0.8466601508983024, 0.9912770424740062, 0.1286341374612454, 0.39406592202588653, 0.2602738171793757, 0.15755996993937516, 0.6786784237587729, 0.0022831390403907914, 0.6635978812483609, 0.9052015803213604, 0.6673692594584295, 0.06141403275754653, 0.5991698040752008, 0.3571221183684591, 0.283150659515781, 0.24855541638917755, 0.8861431620852266, 0.5308909909027093, 0.6949378546697427, 0.4636427524146042, 0.1618429429465129, 0.6160962105729413, 0.9231162743759743, 0.5439556614989548, 0.15969599746366003, 0.7739111419049433, 0.20840264961710986, 0.16988761816718845, 0.13516005241067208, 0.613663624137258, 0.06485085524953593, 0.7835366574031493, 0.4318926114262507, 0.12165247849020777, 0.9452377033332636, 0.8637992985255221, 0.35799086494245047, 0.5953675307177245, 0.01642222217496525, 0.2191628026543233, 0.2940680245896419, 0.5644015652108858, 0.023682710781378624, 0.23433648543646168, 0.811540533412545, 0.4033969461671125, 0.1561221968726687, 0.9550740174627651, 0.7857375646671327, 0.6531319421048488, 0.4182515676595835, 0.8259331929989628, 0.2107830760425129, 0.045066364440459306, 0.18719717489231325, 0.3568151766030039, 0.755103859111922, 0.6149777392537557, 0.9182891805140319, 0.972262247439963, 0.8408840758414545, 0.1340193549648081, 0.7776391152541445, 0.1504373876630717, 0.07321784629745465, 0.6515884294864959, 0.9976789281825361, 0.8082694765416191, 0.3154447613004897, 0.8107797565218775, 0.042850143605325686, 0.9193442069453623, 0.34706202933077634, 0.9823629969474433, 0.5782353462534686, 0.06295339033822622, 0.7669011231191649, 0.33748644451144816, 0.27134373370743714, 0.7451034607881534, 0.34830218119610845, 0.9390494994882977, 0.4267003762894319, 0.001954908217357665, 0.7355385408626032, 0.629599538836851, 0.47903900330360494, 0.8304418660917684, 0.3263272633723643, 0.1471032713351823, 0.860716554635401, 0.9975043447178902, 0.3536795141756618, 0.6751985584762469, 0.9193330763938923, 0.8062643537735933, 0.31154830077727913, 0.6402696686917976, 0.4930880249596039, 0.04883194458334539, 0.9561569061455033, 0.28585392464656156, 0.07381788763474628, 0.11660552802829427, 0.46350576753490424, 0.3987513315832524, 0.09418962796600494, 0.08690189575828122, 0.42625497378238364, 0.46563069049827643, 0.9080440518966607, 0.6237863469556815, 0.013325140182830042, 0.17963106482254054, 0.24518049540097964, 0.09183527691506166, 0.48965405928262085, 0.8334132675285975, 0.12628627638888246, 0.8358599975938613, 0.28275280103198575, 0.6673382992150992, 0.7258196759590696, 0.2658923341374133, 0.3940213285283727, 0.47863761122697035, 0.14692474333311045, 0.03852757748408253, 0.46529102926489574, 0.9746246706231221, 0.44546964138492884, 0.4333058742178735, 0.7136395409577677, 0.06075767659780307, 0.13111596672536674, 0.4544111906951136, 0.9949673038554672, 0.8399160687153061, 0.3181383938312763, 0.03929516626546048, 0.02219904302804243, 0.2244655439131561, 0.9509905852597034, 0.4455659165023105, 0.5748606267957977, 0.5226908719486755, 0.5319325381226879, 0.7380788947058261, 0.41664229724900625, 0.03414097874384414, 0.16270752975413894, 0.40390532312843885, 0.35531826141295453, 0.02447206454152595, 0.17166903198546413, 0.10942555692187139, 0.18247510821833313, 0.40498790316522104, 0.5600679802674856, 0.054091941795677445, 0.6837591410730527, 0.7530645250868961, 0.9510326553941233, 0.40246196773966647, 0.10793911476294071, 0.3173114291197401, 0.7779509274400622, 0.795911507382903, 0.5670888596691798, 0.6540266974609188, 0.2333530621340042, 0.6536066260784658, 0.7113905710499157, 0.6790272832579141, 0.3427662605681425, 0.45055773699004475, 0.27937607890101557, 0.7797114658206474, 0.7342370372658419, 0.13157386020502282, 0.19663168352006666, 0.947954244974235, 0.9417911601379222, 0.19017134559627946, 0.12851796990870124, 0.09795998521751459, 0.4572535583340883, 0.4612645583665721, 0.9108524211576985, 0.5331384521264986, 0.32790685207466996, 0.2707444255351764, 0.8349533228598957, 0.4010652280059581, 0.6724090628605897, 0.9880053691256879, 0.3312598310450273, 0.28150366823969575, 0.35021113600092313, 0.6438253118051976, 0.8137014826577319, 0.9579950984290153, 0.3215405635274535, 0.07792636811831244, 0.5244876140252571, 0.4036083157610507, 0.32487966723359063, 0.055982402162454425, 0.37426615467802105, 0.11987611963465428, 0.7109964430296519, 0.17785544674424858, 0.394586203663407, 0.602223424484673, 0.18976250698256447, 0.6424882878084871, 0.07721163359669869, 0.7256567912779128, 0.43687303884860984, 0.9119858465212476, 0.7242407081006406, 0.01277010506052767, 0.8089247174387764, 0.5066510615727241, 0.3758661826269446, 0.6496945170863654, 0.19538865466403255, 0.45382932355319905, 0.5338302446396923, 0.16683395144337576, 0.03888352787557536, 0.6745032674909437, 0.8283990473591604, 0.3472493635117846, 0.7253397408908819, 0.8246489280494845, 0.8601251157401597, 0.32972618484982186, 0.5932279047721163, 0.4363756041003982, 0.005931749848264722, 0.0239800948408887, 0.9972937826667211, 0.22076993997837024, 0.9329064447730326, 0.17652219813005, 0.6657647047895262, 0.6867031791154465, 0.6850836503669534, 0.5344828693374934, 0.15802342742672326, 0.8230140513047836, 0.204857080156157, 0.025106748113887356, 0.34325842579527077, 0.36299979288310713, 0.06571883444607263, 0.27494106886825465, 0.5406169182829318, 0.4951734485428103, 0.9613385105998408, 0.5703809357802323, 0.04007432392480581, 0.5927185703294676, 0.3377443494429121, 0.09821635679931096, 0.003281592051667559]\n",
      "705\n"
     ]
    }
   ],
   "source": [
    "print(rand_Gen)\n",
    "print(len(rand_Gen))"
   ]
  },
  {
   "cell_type": "code",
   "execution_count": 465,
   "id": "2f462787",
   "metadata": {},
   "outputs": [],
   "source": [
    "# Function that calculates the likelihood of whether a point will exist\n",
    "# Based on multiplication probability and random factor\n",
    "\n",
    "def if_exist(P_xy,rand_Gen):\n",
    "    if_exist = (P_xy>rand_Gen)\n",
    "    return if_exist"
   ]
  },
  {
   "cell_type": "code",
   "execution_count": 466,
   "id": "7c9f3018",
   "metadata": {},
   "outputs": [],
   "source": [
    "if_exist = np.array(if_exist(P_xy,rand_Gen))"
   ]
  },
  {
   "cell_type": "code",
   "execution_count": 467,
   "id": "171a2538",
   "metadata": {},
   "outputs": [],
   "source": [
    "new_store=store[if_exist]"
   ]
  },
  {
   "cell_type": "code",
   "execution_count": 468,
   "id": "5249d950",
   "metadata": {},
   "outputs": [
    {
     "name": "stdout",
     "output_type": "stream",
     "text": [
      "[[ 2.5         2.5       ]\n",
      " [ 2.5         5.        ]\n",
      " [ 2.5         7.5       ]\n",
      " ...\n",
      " [92.5         2.5       ]\n",
      " [ 2.5        93.96446609]\n",
      " [93.96446609  2.5       ]]\n",
      "544\n"
     ]
    }
   ],
   "source": [
    "print(new_store)\n",
    "print(len(new_store))"
   ]
  },
  {
   "cell_type": "code",
   "execution_count": 469,
   "id": "33614ba7",
   "metadata": {},
   "outputs": [
    {
     "data": {
      "text/plain": [
       "<matplotlib.collections.PathCollection at 0x259e76317f0>"
      ]
     },
     "execution_count": 469,
     "metadata": {},
     "output_type": "execute_result"
    },
    {
     "data": {
      "image/png": "[encoded data removed]",
      "text/plain": [
       "<Figure size 720x360 with 1 Axes>"
      ]
     },
     "metadata": {
      "needs_background": "light"
     },
     "output_type": "display_data"
    }
   ],
   "source": [
    "# Visualize\n",
    "x1 = new_store[:,0]\n",
    "y1 = new_store[:,1]\n",
    "#plt.figure(figsize = (150, 60))\n",
    "plt.figure(figsize=(10,5))\n",
    "plt.plot((0, 0), (0, y_max), scaley = False,c='blue',alpha = 0.75)\n",
    "plt.plot((x_max, 0),(0, 0),scaley = False,c='blue',alpha = 0.75)\n",
    "plt.plot((0, x_max), (y_max, 0), scaley = False,c='blue',alpha = 0.75)\n",
    "\n",
    "plt.plot((step,(x_max-delta_x)),((y_max-delta_y),step),'m--',label = '2.5 um separation',alpha = 0.75)\n",
    "plt.plot((step,step),(step,(y_max-delta_y)),'m--',alpha = 0.75)\n",
    "plt.plot((step,(x_max-delta_x)),(step,step),'m--',alpha = 0.75)\n",
    "\n",
    "plt.scatter(x1,y1,s=20,c='green',edgecolor = 'black',alpha = 0.75)\n"
   ]
  },
  {
   "cell_type": "code",
   "execution_count": null,
   "id": "acb4422e",
   "metadata": {},
   "outputs": [],
   "source": []
  },
  {
   "cell_type": "code",
   "execution_count": null,
   "id": "cb335344",
   "metadata": {},
   "outputs": [],
   "source": []
  },
  {
   "cell_type": "code",
   "execution_count": null,
   "id": "1a9173bf",
   "metadata": {},
   "outputs": [],
   "source": []
  }
 ],
 "metadata": {
  "kernelspec": {
   "display_name": "Python 3 (ipykernel)",
   "language": "python",
   "name": "python3"
  },
  "language_info": {
   "codemirror_mode": {
    "name": "ipython",
    "version": 3
   },
   "file_extension": ".py",
   "mimetype": "text/x-python",
   "name": "python",
   "nbconvert_exporter": "python",
   "pygments_lexer": "ipython3",
   "version": "3.9.12"
  }
 },
 "nbformat": 4,
 "nbformat_minor": 5
}
